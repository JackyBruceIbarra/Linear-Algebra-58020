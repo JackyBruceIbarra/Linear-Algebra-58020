{
  "nbformat": 4,
  "nbformat_minor": 0,
  "metadata": {
    "colab": {
      "name": "Practical Lab Exam 1",
      "provenance": [],
      "authorship_tag": "ABX9TyPi9s4zEILdcV0sWDGuEnU+",
      "include_colab_link": true
    },
    "kernelspec": {
      "name": "python3",
      "display_name": "Python 3"
    },
    "language_info": {
      "name": "python"
    }
  },
  "cells": [
    {
      "cell_type": "markdown",
      "metadata": {
        "id": "view-in-github",
        "colab_type": "text"
      },
      "source": [
        "<a href=\"https://colab.research.google.com/github/JackyBruceIbarra/Linear-Algebra-58020/blob/main/Practical_Lab_Exam_1.ipynb\" target=\"_parent\"><img src=\"https://colab.research.google.com/assets/colab-badge.svg\" alt=\"Open In Colab\"/></a>"
      ]
    },
    {
      "cell_type": "markdown",
      "metadata": {
        "id": "W4wY7tYjUKna"
      },
      "source": [
        "#Ibarra, Jacky Bruce G.\n",
        "## 58020"
      ]
    },
    {
      "cell_type": "code",
      "metadata": {
        "id": "hOGkuzEeD4Bg"
      },
      "source": [
        "import numpy as np\n",
        "W = np.array([[1,-3],[2,-2],[3,1]])\n",
        "X = np.array([[3,2,1],[-1,2,3],[2,-1,1]])\n",
        "Y = np.array([[1,2,0],[0,-1,2]])\n",
        "Z = np.array([[0,1],[2,3]])\n"
      ],
      "execution_count": 17,
      "outputs": []
    },
    {
      "cell_type": "markdown",
      "metadata": {
        "id": "y1URAy1JH64n"
      },
      "source": [
        "#Problem 1"
      ]
    },
    {
      "cell_type": "markdown",
      "metadata": {
        "id": "14Rmh-SSGhaQ"
      },
      "source": [
        "#a. WY"
      ]
    },
    {
      "cell_type": "code",
      "metadata": {
        "colab": {
          "base_uri": "https://localhost:8080/"
        },
        "id": "6T9pfWEnGkOr",
        "outputId": "b8062cdf-d790-496b-9380-3cff728a9993"
      },
      "source": [
        "output = np.dot(W,Y) #compute the dot of W and Y\n",
        "print(output)"
      ],
      "execution_count": 8,
      "outputs": [
        {
          "output_type": "stream",
          "name": "stdout",
          "text": [
            "[[ 1  5 -6]\n",
            " [ 2  6 -4]\n",
            " [ 3  5  2]]\n"
          ]
        }
      ]
    },
    {
      "cell_type": "markdown",
      "metadata": {
        "id": "cG0XHaemHTRS"
      },
      "source": [
        "#b. Z+Z"
      ]
    },
    {
      "cell_type": "code",
      "metadata": {
        "colab": {
          "base_uri": "https://localhost:8080/"
        },
        "id": "_b1c-PfUHUv8",
        "outputId": "9e736f91-11db-4245-da0b-846e29c1dcc3"
      },
      "source": [
        "R = np.add(Z,Z)\n",
        "R"
      ],
      "execution_count": 11,
      "outputs": [
        {
          "output_type": "execute_result",
          "data": {
            "text/plain": [
              "array([[0, 2],\n",
              "       [4, 6]])"
            ]
          },
          "metadata": {},
          "execution_count": 11
        }
      ]
    },
    {
      "cell_type": "markdown",
      "metadata": {
        "id": "LamBm3sLHpRn"
      },
      "source": [
        "#c. 3X"
      ]
    },
    {
      "cell_type": "code",
      "metadata": {
        "colab": {
          "base_uri": "https://localhost:8080/"
        },
        "id": "lluXJvuOHqVl",
        "outputId": "8eef7cec-705a-4333-b7c3-c3022e3e8d72"
      },
      "source": [
        "result = 3*X\n",
        "print (result)"
      ],
      "execution_count": 18,
      "outputs": [
        {
          "output_type": "stream",
          "name": "stdout",
          "text": [
            "[[ 9  6  3]\n",
            " [-3  6  9]\n",
            " [ 6 -3  3]]\n"
          ]
        }
      ]
    },
    {
      "cell_type": "markdown",
      "metadata": {
        "id": "lx4u3VH8H-EG"
      },
      "source": [
        "#Problem 2"
      ]
    },
    {
      "cell_type": "markdown",
      "metadata": {
        "id": "WPDyi-_uK-LS"
      },
      "source": [
        "#a.The product (YW)2 is not defined\n",
        "\n"
      ]
    },
    {
      "cell_type": "code",
      "metadata": {
        "colab": {
          "base_uri": "https://localhost:8080/"
        },
        "id": "E72eLANZLB2r",
        "outputId": "8d9cffd1-a7c2-4858-880c-cb6951d42775"
      },
      "source": [
        "seta = np.dot(Y,W) \n",
        "print(seta)"
      ],
      "execution_count": 19,
      "outputs": [
        {
          "output_type": "stream",
          "name": "stdout",
          "text": [
            "[[ 5 -7]\n",
            " [ 4  4]]\n"
          ]
        }
      ]
    },
    {
      "cell_type": "code",
      "metadata": {
        "colab": {
          "base_uri": "https://localhost:8080/"
        },
        "id": "tR_2sZ80OvEV",
        "outputId": "2c51e000-142b-449a-c655-64006f9b4d88"
      },
      "source": [
        "A = np.square(seta)\n",
        "print (A)"
      ],
      "execution_count": 30,
      "outputs": [
        {
          "output_type": "stream",
          "name": "stdout",
          "text": [
            "[[25 49]\n",
            " [16 16]]\n"
          ]
        }
      ]
    },
    {
      "cell_type": "markdown",
      "metadata": {
        "id": "axFoAV07IAPq"
      },
      "source": [
        "#b. WY – X"
      ]
    },
    {
      "cell_type": "code",
      "metadata": {
        "colab": {
          "base_uri": "https://localhost:8080/"
        },
        "id": "EAmw-eYoIGiD",
        "outputId": "1bb22890-9556-486b-82bf-d6e282d5bd61"
      },
      "source": [
        "B = (output)\n",
        "C = (X)\n",
        "print (B-C)"
      ],
      "execution_count": 22,
      "outputs": [
        {
          "output_type": "stream",
          "name": "stdout",
          "text": [
            "[[-2  3 -7]\n",
            " [ 3  4 -7]\n",
            " [ 1  6  1]]\n"
          ]
        }
      ]
    },
    {
      "cell_type": "markdown",
      "metadata": {
        "id": "kbNDSR5cJ0SM"
      },
      "source": [
        "#c. YW – Z^2"
      ]
    },
    {
      "cell_type": "code",
      "metadata": {
        "colab": {
          "base_uri": "https://localhost:8080/"
        },
        "id": "wPro-U55J4Mx",
        "outputId": "d849edaa-8d6e-4e8c-ea0f-f487d13974f8"
      },
      "source": [
        "D = (seta)\n",
        "E = np.square(Z)\n",
        "print (D-E)"
      ],
      "execution_count": 33,
      "outputs": [
        {
          "output_type": "stream",
          "name": "stdout",
          "text": [
            "[[ 5 -8]\n",
            " [ 0 -5]]\n"
          ]
        }
      ]
    }
  ]
}