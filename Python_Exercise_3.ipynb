{
  "nbformat": 4,
  "nbformat_minor": 0,
  "metadata": {
    "colab": {
      "name": "Python Exercise 3.ipynb",
      "provenance": [],
      "authorship_tag": "ABX9TyPj5ef1m4K3oOAAHSZMedu/",
      "include_colab_link": true
    },
    "kernelspec": {
      "name": "python3",
      "display_name": "Python 3"
    },
    "language_info": {
      "name": "python"
    }
  },
  "cells": [
    {
      "cell_type": "markdown",
      "metadata": {
        "id": "view-in-github",
        "colab_type": "text"
      },
      "source": [
        "<a href=\"https://colab.research.google.com/github/JackyBruceIbarra/Linear-Algebra-58020/blob/main/Python_Exercise_3.ipynb\" target=\"_parent\"><img src=\"https://colab.research.google.com/assets/colab-badge.svg\" alt=\"Open In Colab\"/></a>"
      ]
    },
    {
      "cell_type": "markdown",
      "metadata": {
        "id": "1bwJnx4XjQuR"
      },
      "source": [
        "#Linear Transformation\n"
      ]
    },
    {
      "cell_type": "code",
      "metadata": {
        "colab": {
          "base_uri": "https://localhost:8080/"
        },
        "id": "Sq9mH95ubRdR",
        "outputId": "a7931994-7350-4401-833e-5af0c1fbdeb8"
      },
      "source": [
        "import numpy as np\n",
        "A = np.array([[1,1,1],[1,2,2],[1,2,3]])\n",
        "print(A)\n",
        "inv_A=np.linalg.inv(A)\n",
        "print(inv_A)\n",
        "\n",
        "B = np.array([[5],[6],[8]])\n",
        "print(B)\n",
        "\n",
        "#AA^-1X = B.A^-1\n",
        "X = np.dot(inv_A,B)\n",
        "print(X)"
      ],
      "execution_count": 11,
      "outputs": [
        {
          "output_type": "stream",
          "name": "stdout",
          "text": [
            "[[1 1 1]\n",
            " [1 2 2]\n",
            " [1 2 3]]\n",
            "[[ 2. -1.  0.]\n",
            " [-1.  2. -1.]\n",
            " [ 0. -1.  1.]]\n",
            "[[5]\n",
            " [6]\n",
            " [8]]\n",
            "[[ 4.]\n",
            " [-1.]\n",
            " [ 2.]]\n"
          ]
        }
      ]
    }
  ]
}