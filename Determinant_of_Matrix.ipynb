{
  "nbformat": 4,
  "nbformat_minor": 0,
  "metadata": {
    "colab": {
      "name": "Determinant of Matrix",
      "provenance": [],
      "authorship_tag": "ABX9TyMpC4hByYiTzy1hb121BY/c",
      "include_colab_link": true
    },
    "kernelspec": {
      "name": "python3",
      "display_name": "Python 3"
    },
    "language_info": {
      "name": "python"
    }
  },
  "cells": [
    {
      "cell_type": "markdown",
      "metadata": {
        "id": "view-in-github",
        "colab_type": "text"
      },
      "source": [
        "<a href=\"https://colab.research.google.com/github/JackyBruceIbarra/Linear-Algebra-58020/blob/main/Determinant_of_Matrix.ipynb\" target=\"_parent\"><img src=\"https://colab.research.google.com/assets/colab-badge.svg\" alt=\"Open In Colab\"/></a>"
      ]
    },
    {
      "cell_type": "markdown",
      "metadata": {
        "id": "EzQ9AtPgg_IM"
      },
      "source": [
        "#Ibarra, Jacky Bruce G.\n",
        "## 58020"
      ]
    },
    {
      "cell_type": "code",
      "metadata": {
        "colab": {
          "base_uri": "https://localhost:8080/"
        },
        "id": "sDOxPVeyGUIf",
        "outputId": "403b3084-c6f6-4e7a-b22c-d1369d2c0131"
      },
      "source": [
        "import numpy as np\n",
        "A = np.array([[1,2,-1],[4,6,-2],[-1,3,3]]) # array\n",
        "print(A) # printing the array to see the result\n",
        "print ('Determinat matrix is:')\n",
        "print(np.linalg.det(A)) # result without round\n",
        "print ('Determinat with roundoff matrix is:')\n",
        "print(round(np.linalg.det(A))) # to round up the result"
      ],
      "execution_count": 12,
      "outputs": [
        {
          "output_type": "stream",
          "name": "stdout",
          "text": [
            "[[ 1  2 -1]\n",
            " [ 4  6 -2]\n",
            " [-1  3  3]]\n",
            "Determinat matrix is:\n",
            "-13.999999999999996\n",
            "Determinat with roundoff matrix is:\n",
            "-14\n"
          ]
        }
      ]
    }
  ]
}