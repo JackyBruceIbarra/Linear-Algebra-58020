{
  "nbformat": 4,
  "nbformat_minor": 0,
  "metadata": {
    "colab": {
      "name": "Application of Linear System.ipynb",
      "provenance": [],
      "authorship_tag": "ABX9TyMVaGy2abiIvwCFogsZKotE",
      "include_colab_link": true
    },
    "kernelspec": {
      "name": "python3",
      "display_name": "Python 3"
    },
    "language_info": {
      "name": "python"
    }
  },
  "cells": [
    {
      "cell_type": "markdown",
      "metadata": {
        "id": "view-in-github",
        "colab_type": "text"
      },
      "source": [
        "<a href=\"https://colab.research.google.com/github/JackyBruceIbarra/Linear-Algebra-58020/blob/main/Application_of_Linear_System.ipynb\" target=\"_parent\"><img src=\"https://colab.research.google.com/assets/colab-badge.svg\" alt=\"Open In Colab\"/></a>"
      ]
    },
    {
      "cell_type": "markdown",
      "metadata": {
        "id": "y0l7qB88X4tS"
      },
      "source": [
        "##Systems of Linear Equations"
      ]
    },
    {
      "cell_type": "markdown",
      "metadata": {
        "id": "83p7xoFAX_IS"
      },
      "source": [
        "###Systmes of Linear Equations can be solved with arrays and Numpy."
      ]
    },
    {
      "cell_type": "code",
      "metadata": {
        "colab": {
          "base_uri": "https://localhost:8080/"
        },
        "id": "24eHOfdjZ2Sn",
        "outputId": "08e80d02-c950-4014-95c6-4347cc8ab42f"
      },
      "source": [
        "from scipy.linalg import solve\n",
        "\n",
        "A = np.array([[4,5],[3,-2]])\n",
        "print (A)\n",
        "B = np.array([[7],[11]])\n",
        "print (B)\n",
        "\n",
        "inv_A = np.linalg.inv(A)\n",
        "print (inv_A)\n",
        "\n",
        "\n",
        "X = np.linalg.inv(A).dot(B)\n",
        "print (X)\n"
      ],
      "execution_count": 6,
      "outputs": [
        {
          "output_type": "stream",
          "name": "stdout",
          "text": [
            "[[ 4  5]\n",
            " [ 3 -2]]\n",
            "[[ 7]\n",
            " [11]]\n",
            "[[ 0.08695652  0.2173913 ]\n",
            " [ 0.13043478 -0.17391304]]\n",
            "[[ 3.]\n",
            " [-1.]]\n"
          ]
        }
      ]
    },
    {
      "cell_type": "code",
      "metadata": {
        "colab": {
          "base_uri": "https://localhost:8080/"
        },
        "id": "A4Dy62IQTqYQ",
        "outputId": "3eff9e53-f7f7-430a-d848-bba2d9a283e7"
      },
      "source": [
        "inv_A = np.linalg.inv(A)\n",
        "print (inv_A)\n",
        "\n",
        "X = np.dot(inv_A,B)\n",
        "print (X)"
      ],
      "execution_count": 7,
      "outputs": [
        {
          "output_type": "stream",
          "name": "stdout",
          "text": [
            "[[ 0.08695652  0.2173913 ]\n",
            " [ 0.13043478 -0.17391304]]\n",
            "[[ 3.]\n",
            " [-1.]]\n"
          ]
        }
      ]
    },
    {
      "cell_type": "code",
      "metadata": {
        "colab": {
          "base_uri": "https://localhost:8080/"
        },
        "id": "1434Udq6csr8",
        "outputId": "d7935376-1b71-4db0-9f94-9263dc570d65"
      },
      "source": [
        "X = np.linalg.solve(A,B)\n",
        "print (X)"
      ],
      "execution_count": 8,
      "outputs": [
        {
          "output_type": "stream",
          "name": "stdout",
          "text": [
            "[[ 3.]\n",
            " [-1.]]\n"
          ]
        }
      ]
    },
    {
      "cell_type": "code",
      "metadata": {
        "colab": {
          "base_uri": "https://localhost:8080/"
        },
        "id": "A6O_z4_Xd9AN",
        "outputId": "b9219986-70b5-411c-ee69-bbdb5f38839d"
      },
      "source": [
        "from scipy.linalg import solve\n",
        "X = solve(A,B)\n",
        "print (X)"
      ],
      "execution_count": 14,
      "outputs": [
        {
          "output_type": "stream",
          "name": "stdout",
          "text": [
            "[[ 3.]\n",
            " [-1.]]\n"
          ]
        }
      ]
    }
  ]
}