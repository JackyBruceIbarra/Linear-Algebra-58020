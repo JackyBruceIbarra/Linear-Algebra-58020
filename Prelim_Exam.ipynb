{
  "nbformat": 4,
  "nbformat_minor": 0,
  "metadata": {
    "colab": {
      "name": "Prelim Exam",
      "provenance": [],
      "authorship_tag": "ABX9TyOuAw834cQfax9HCM22AobD",
      "include_colab_link": true
    },
    "kernelspec": {
      "name": "python3",
      "display_name": "Python 3"
    },
    "language_info": {
      "name": "python"
    }
  },
  "cells": [
    {
      "cell_type": "markdown",
      "metadata": {
        "id": "view-in-github",
        "colab_type": "text"
      },
      "source": [
        "<a href=\"https://colab.research.google.com/github/JackyBruceIbarra/Linear-Algebra-58020/blob/main/Prelim_Exam.ipynb\" target=\"_parent\"><img src=\"https://colab.research.google.com/assets/colab-badge.svg\" alt=\"Open In Colab\"/></a>"
      ]
    },
    {
      "cell_type": "markdown",
      "metadata": {
        "id": "_1e3B7Wpi77J"
      },
      "source": [
        "#Ibarra, Jacky Bruce G.\n",
        "##58020"
      ]
    },
    {
      "cell_type": "markdown",
      "metadata": {
        "id": "R8h5N_jejIJA"
      },
      "source": [
        "#Question 1. (20 points) Create a 4 x 4 matrix whose diagonal elements are all one (1's). Name it as matrix \"C\". Show your solutions using Python codes and do not forget to label them on the Text Cell."
      ]
    },
    {
      "cell_type": "code",
      "metadata": {
        "colab": {
          "base_uri": "https://localhost:8080/"
        },
        "id": "l5XqKrJGjQbj",
        "outputId": "3b077fa0-5de6-4d57-9c8f-f847f3fe97c9"
      },
      "source": [
        "import numpy as np\n",
        "#Create a 4 x 4 diagonal matrix\n",
        "C = np.array([[1,1,1,1],[1,1,1,1],[1,1,1,1],[1,1,1,1]])\n",
        "print (C)\n",
        "F = np.diagonal([[1,1,1,1],[1,1,1,1],[1,1,1,1],[1,1,1,1]])\n",
        "print (F)"
      ],
      "execution_count": 30,
      "outputs": [
        {
          "output_type": "stream",
          "name": "stdout",
          "text": [
            "[[1 1 1 1]\n",
            " [1 1 1 1]\n",
            " [1 1 1 1]\n",
            " [1 1 1 1]]\n",
            "[1 1 1 1]\n"
          ]
        }
      ]
    },
    {
      "cell_type": "markdown",
      "metadata": {
        "id": "4zEvlWTzoIzQ"
      },
      "source": [
        "##Question 2. (20 points) In relation to Question 1, show a solution that doubles all the values of each element. Show your solutions using Python codes and do not forget to label them on the Text Cell."
      ]
    },
    {
      "cell_type": "code",
      "metadata": {
        "colab": {
          "base_uri": "https://localhost:8080/"
        },
        "id": "GeBRSIpLoMAS",
        "outputId": "ba62de2b-7282-4739-b069-54062a0ce45d"
      },
      "source": [
        "output = np.square(C)\n",
        "print(output)"
      ],
      "execution_count": 32,
      "outputs": [
        {
          "output_type": "stream",
          "name": "stdout",
          "text": [
            "[[1 1 1 1]\n",
            " [1 1 1 1]\n",
            " [1 1 1 1]\n",
            " [1 1 1 1]]\n"
          ]
        }
      ]
    },
    {
      "cell_type": "markdown",
      "metadata": {
        "id": "pjoYVlZyohZY"
      },
      "source": [
        "#Question 3. (10 points) Find the cross-product of matrices, A = [2,7,4] and B = [3,9,8]. Show your solutions using Python codes and do not forget to label them on the Text Cell."
      ]
    },
    {
      "cell_type": "code",
      "metadata": {
        "colab": {
          "base_uri": "https://localhost:8080/"
        },
        "id": "PnbvoEXRolpF",
        "outputId": "ce37ead2-d16a-4499-eb12-870c8921ec08"
      },
      "source": [
        "A = np.array ([2,7,4]) \n",
        "B = np.array ([3,9,8])\n",
        "R = np.cross(A,B) \n",
        "print (R)"
      ],
      "execution_count": 17,
      "outputs": [
        {
          "output_type": "stream",
          "name": "stdout",
          "text": [
            "[20 -4 -3]\n"
          ]
        }
      ]
    }
  ]
}