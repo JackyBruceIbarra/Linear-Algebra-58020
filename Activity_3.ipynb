{
  "nbformat": 4,
  "nbformat_minor": 0,
  "metadata": {
    "colab": {
      "name": "Activity 3",
      "provenance": [],
      "authorship_tag": "ABX9TyNEACVhPkWYbTjzPb16BOjF",
      "include_colab_link": true
    },
    "kernelspec": {
      "name": "python3",
      "display_name": "Python 3"
    },
    "language_info": {
      "name": "python"
    }
  },
  "cells": [
    {
      "cell_type": "markdown",
      "metadata": {
        "id": "view-in-github",
        "colab_type": "text"
      },
      "source": [
        "<a href=\"https://colab.research.google.com/github/JackyBruceIbarra/Linear-Algebra-58020/blob/main/Activity_3.ipynb\" target=\"_parent\"><img src=\"https://colab.research.google.com/assets/colab-badge.svg\" alt=\"Open In Colab\"/></a>"
      ]
    },
    {
      "cell_type": "markdown",
      "metadata": {
        "id": "AhNJCdrO0buS"
      },
      "source": [
        "# Ibarra, Jacky Bruce G.\n",
        "## 58020"
      ]
    },
    {
      "cell_type": "markdown",
      "metadata": {
        "id": "aeguSTjL039Z"
      },
      "source": [
        "#inverse of 3x3 matrix \n",
        "\n",
        "\n"
      ]
    },
    {
      "cell_type": "code",
      "metadata": {
        "colab": {
          "base_uri": "https://localhost:8080/"
        },
        "id": "RMb4lm5g1CZS",
        "outputId": "71b7cd99-7880-4dd1-a107-a699c5c0aab1"
      },
      "source": [
        "import numpy as np\n",
        "A = np.array([[1,2,-1],[2,5,1],[-1,-2,2]])\n",
        "print ('Original matrix is:')\n",
        "print (A)\n",
        "print ('Inverse of the matrix is:') # FOR INVERSE The value 8 below will be executed, but the value 9 above will result in an error.\n",
        "print(np.linalg.inv([[1,2,-1],[2,5,1],[-1,-2,2]]))\n",
        "\n"
      ],
      "execution_count": 89,
      "outputs": [
        {
          "output_type": "stream",
          "name": "stdout",
          "text": [
            "Original matrix is:\n",
            "[[ 1  2 -1]\n",
            " [ 2  5  1]\n",
            " [-1 -2  2]]\n",
            "Inverse of the matrix is:\n",
            "[[12. -2.  7.]\n",
            " [-5.  1. -3.]\n",
            " [ 1.  0.  1.]]\n"
          ]
        }
      ]
    },
    {
      "cell_type": "markdown",
      "metadata": {
        "id": "licPKjoD8W9n"
      },
      "source": [
        "#transpose of 3x3  matrix "
      ]
    },
    {
      "cell_type": "code",
      "metadata": {
        "colab": {
          "base_uri": "https://localhost:8080/"
        },
        "id": "eVW2Hbrz8cqX",
        "outputId": "af30aa40-c254-4507-d7b5-389046cd575a"
      },
      "source": [
        "#A = np.array([[1,2,-1],[2,5,1],[-1,-2,2]])\n",
        "B = np.transpose(A)\n",
        "print ('Transpose of the Matrix is:')\n",
        "print (B)"
      ],
      "execution_count": 91,
      "outputs": [
        {
          "output_type": "stream",
          "name": "stdout",
          "text": [
            "Transpose of the Matrix is:\n",
            "[[ 1  2 -1]\n",
            " [ 2  5 -2]\n",
            " [-1  1  2]]\n"
          ]
        }
      ]
    }
  ]
}