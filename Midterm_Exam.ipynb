{
  "nbformat": 4,
  "nbformat_minor": 0,
  "metadata": {
    "colab": {
      "name": "Midterm Exam.ipynb",
      "provenance": [],
      "authorship_tag": "ABX9TyNqS7aNpLuebHlZeomwVHqC",
      "include_colab_link": true
    },
    "kernelspec": {
      "name": "python3",
      "display_name": "Python 3"
    },
    "language_info": {
      "name": "python"
    }
  },
  "cells": [
    {
      "cell_type": "markdown",
      "metadata": {
        "id": "view-in-github",
        "colab_type": "text"
      },
      "source": [
        "<a href=\"https://colab.research.google.com/github/JackyBruceIbarra/Linear-Algebra-58020/blob/main/Midterm_Exam.ipynb\" target=\"_parent\"><img src=\"https://colab.research.google.com/assets/colab-badge.svg\" alt=\"Open In Colab\"/></a>"
      ]
    },
    {
      "cell_type": "markdown",
      "metadata": {
        "id": "yZIbX03p25tB"
      },
      "source": [
        "#MIDTERM EXAM\n"
      ]
    },
    {
      "cell_type": "markdown",
      "metadata": {
        "id": "muB3rngY3EYi"
      },
      "source": [
        "Question 1. Create a Python code that displays a square matrix whose length is 5 (10 points)"
      ]
    },
    {
      "cell_type": "code",
      "metadata": {
        "colab": {
          "base_uri": "https://localhost:8080/"
        },
        "id": "n3gROWJF2zaW",
        "outputId": "275338c8-6339-4da0-ba87-f4fbbd75e618"
      },
      "source": [
        "import numpy as np\n",
        "d = np.full((5,5),5)# square matrix\n",
        "print (d)"
      ],
      "execution_count": null,
      "outputs": [
        {
          "output_type": "stream",
          "name": "stdout",
          "text": [
            "[[5 5 5 5 5]\n",
            " [5 5 5 5 5]\n",
            " [5 5 5 5 5]\n",
            " [5 5 5 5 5]\n",
            " [5 5 5 5 5]]\n"
          ]
        }
      ]
    },
    {
      "cell_type": "markdown",
      "metadata": {
        "id": "amFRBO5b3fQa"
      },
      "source": [
        "Question 2. Create a Python code that displays a square matrix whose elements below the principal diagonal are zero (10 points)"
      ]
    },
    {
      "cell_type": "code",
      "metadata": {
        "colab": {
          "base_uri": "https://localhost:8080/"
        },
        "id": "wofGGNT13gDM",
        "outputId": "4285e6b8-e0ae-4083-c9e6-9997475dea4e"
      },
      "source": [
        "import numpy as np\n",
        "e = np.array([1,2,3,4])#array\n",
        "print ('Array is', e)\n",
        "print(np.diag(e))#diagnoal the array\n",
        "\n"
      ],
      "execution_count": 22,
      "outputs": [
        {
          "output_type": "stream",
          "name": "stdout",
          "text": [
            "Array is [1 2 3 4]\n",
            "[[1 0 0 0]\n",
            " [0 2 0 0]\n",
            " [0 0 3 0]\n",
            " [0 0 0 4]]\n"
          ]
        }
      ]
    },
    {
      "cell_type": "markdown",
      "metadata": {
        "id": "MkztC8Xc3gZT"
      },
      "source": [
        "Question 3. Create a Python code that displays a square matrix which is symmetrical (10 points)"
      ]
    },
    {
      "cell_type": "code",
      "metadata": {
        "colab": {
          "base_uri": "https://localhost:8080/"
        },
        "id": "lx6ZsofG3jZm",
        "outputId": "853e9b8b-ccf8-4cb4-f07b-9000711f9a77"
      },
      "source": [
        "import numpy as np\n",
        "x = np.array([[1,2,3],[2,3,3],[3,4,-2]])\n",
        "print ('Array is', x)#array\n",
        "\n",
        "w = np.transpose(x)#transposing the array\n",
        "print ('transpose is', w)"
      ],
      "execution_count": null,
      "outputs": [
        {
          "output_type": "stream",
          "name": "stdout",
          "text": [
            "Array is [[ 1  2  3]\n",
            " [ 2  3  3]\n",
            " [ 3  4 -2]]\n",
            "transpose is [[ 1  2  3]\n",
            " [ 2  3  4]\n",
            " [ 3  3 -2]]\n"
          ]
        }
      ]
    },
    {
      "cell_type": "markdown",
      "metadata": {
        "id": "wS4N6YbU3ju8"
      },
      "source": [
        "Question 4. What is the inverse of matrix C? Show your solution by python coding. (20 points)\n",
        "\n",
        "$$X = \\begin{bmatrix}1&2&3\\\\ 2&3&3\\\\ 3&4&-2\\end{bmatrix}$$"
      ]
    },
    {
      "cell_type": "code",
      "metadata": {
        "colab": {
          "base_uri": "https://localhost:8080/"
        },
        "id": "0jbrZI_b5FHj",
        "outputId": "050b8c91-415a-4223-e4cd-ce84783c284b"
      },
      "source": [
        "import numpy as np\n",
        "C = np.array([[1,2,3],[2,3,3],[3,4,-2]])#array\n",
        "print(C)\n",
        "inv_C=np.linalg.inv(C)#inverse\n",
        "print(inv_C)"
      ],
      "execution_count": null,
      "outputs": [
        {
          "output_type": "stream",
          "name": "stdout",
          "text": [
            "[[ 1  2  3]\n",
            " [ 2  3  3]\n",
            " [ 3  4 -2]]\n",
            "[[-3.6  3.2 -0.6]\n",
            " [ 2.6 -2.2  0.6]\n",
            " [-0.2  0.4 -0.2]]\n"
          ]
        }
      ]
    },
    {
      "cell_type": "markdown",
      "metadata": {
        "id": "mBpE7gP75IFH"
      },
      "source": [
        "Question 5. What is the determinant of the given matrix in Question 4? Show your solution by python coding. (20 points)"
      ]
    },
    {
      "cell_type": "code",
      "metadata": {
        "id": "p5n5gTuo5Iu5"
      },
      "source": [
        "\n",
        "C = np.array([[1,2,3],[2,3,3],[3,4,-2]]) # array\n",
        "print(C) # printing the array to see the result\n",
        "print ('Determinat matrix is:')\n",
        "print(np.linalg.det(C)) # result without round\n",
        "print ('Determinat with roundoff matrix is:')\n",
        "print(round(np.linalg.det(A))) # to round up the result"
      ],
      "execution_count": null,
      "outputs": []
    },
    {
      "cell_type": "markdown",
      "metadata": {
        "id": "icZDB1ZX5JSz"
      },
      "source": [
        "Question 6. Find the roots of the linear equations by showing its python codes (30 points)\n",
        "\n",
        "5X1 + 4X2 + X3 = 3.4\n",
        "\n",
        "10X1 + 9X2 + 4X3 = 8.8\n",
        "\n",
        "10X1 + 13X2 + 15X3 = 19.2\n",
        "\n"
      ]
    },
    {
      "cell_type": "code",
      "metadata": {
        "colab": {
          "base_uri": "https://localhost:8080/"
        },
        "id": "toJVVsIY5Lwi",
        "outputId": "757e3522-c26b-43ec-b50b-7fd8c87bacf8"
      },
      "source": [
        "import numpy as np\n",
        "A = np.array([[5,4,1],[10,9,4],[10,13,15]])\n",
        "print(A)\n",
        "inv_A=np.linalg.inv(A)#inverse\n",
        "print(inv_A)\n",
        "\n",
        "B = np.array([[3.4],[8.8],[19.2]])#array\n",
        "print(B)\n",
        "\n",
        "#AA^-1X = B.A^-1\n",
        "X = np.dot(inv_A,B)\n",
        "print(X)"
      ],
      "execution_count": null,
      "outputs": [
        {
          "output_type": "stream",
          "name": "stdout",
          "text": [
            "[[ 5  4  1]\n",
            " [10  9  4]\n",
            " [10 13 15]]\n",
            "[[ 5.53333333 -3.13333333  0.46666667]\n",
            " [-7.33333333  4.33333333 -0.66666667]\n",
            " [ 2.66666667 -1.66666667  0.33333333]]\n",
            "[[ 3.4]\n",
            " [ 8.8]\n",
            " [19.2]]\n",
            "[[0.2]\n",
            " [0.4]\n",
            " [0.8]]\n"
          ]
        }
      ]
    }
  ]
}