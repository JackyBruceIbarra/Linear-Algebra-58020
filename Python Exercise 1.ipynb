{
  "nbformat": 4,
  "nbformat_minor": 0,
  "metadata": {
    "colab": {
      "name": "Matrix and its Operations",
      "provenance": [],
      "authorship_tag": "ABX9TyMTIn7u+yjBIPt8sp8OXEax",
      "include_colab_link": true
    },
    "kernelspec": {
      "name": "python3",
      "display_name": "Python 3"
    },
    "language_info": {
      "name": "python"
    }
  },
  "cells": [
    {
      "cell_type": "markdown",
      "metadata": {
        "id": "view-in-github",
        "colab_type": "text"
      },
      "source": [
        "<a href=\"https://colab.research.google.com/github/JackyBruceIbarra/Linear-Algebra-58020/blob/main/Python%20Exercise%201.ipynb\" target=\"_parent\"><img src=\"https://colab.research.google.com/assets/colab-badge.svg\" alt=\"Open In Colab\"/></a>"
      ]
    },
    {
      "cell_type": "markdown",
      "metadata": {
        "id": "egl2YvDSMQsJ"
      },
      "source": [
        "# Sum = A+B"
      ]
    },
    {
      "cell_type": "code",
      "metadata": {
        "colab": {
          "base_uri": "https://localhost:8080/"
        },
        "id": "0G3BuxsVLg_I",
        "outputId": "313bccb2-99bc-499d-d860-5aed64488dc9"
      },
      "source": [
        "#Addition of Matrices\n",
        "import numpy as np\n",
        "a = np.array([[1,2,3],[4,5,6]])\n",
        "b = np.array([[-1,2,4],[7,4,2]])\n",
        "print (a+b)"
      ],
      "execution_count": 10,
      "outputs": [
        {
          "output_type": "stream",
          "name": "stdout",
          "text": [
            "[[ 0  4  7]\n",
            " [11  9  8]]\n"
          ]
        }
      ]
    },
    {
      "cell_type": "markdown",
      "metadata": {
        "id": "xtMhEMg3O5GU"
      },
      "source": [
        "difference1 = A - B"
      ]
    },
    {
      "cell_type": "code",
      "metadata": {
        "colab": {
          "base_uri": "https://localhost:8080/"
        },
        "id": "jXSWHCarO6nW",
        "outputId": "0bc49162-7cdf-43ce-931c-71f0d95fb075"
      },
      "source": [
        "a = np.array([[1,2,3],[4,5,6]])\n",
        "b = np.array([[-1,2,4],[7,4,2]])\n",
        "print (a-b)"
      ],
      "execution_count": 11,
      "outputs": [
        {
          "output_type": "stream",
          "name": "stdout",
          "text": [
            "[[ 2  0 -1]\n",
            " [-3  1  4]]\n"
          ]
        }
      ]
    },
    {
      "cell_type": "markdown",
      "metadata": {
        "id": "Dc8NzvBuPRBP"
      },
      "source": [
        "difference2 = B - B"
      ]
    },
    {
      "cell_type": "code",
      "metadata": {
        "colab": {
          "base_uri": "https://localhost:8080/"
        },
        "id": "dOTiHvDKPV8I",
        "outputId": "5fd19403-005f-467e-ee4f-ad3315e6e1a8"
      },
      "source": [
        "a = np.array([[1,2,3],[4,5,6]])\n",
        "b = np.array([[-1,2,4],[7,4,2]])\n",
        "print (b-b)"
      ],
      "execution_count": 12,
      "outputs": [
        {
          "output_type": "stream",
          "name": "stdout",
          "text": [
            "[[0 0 0]\n",
            " [0 0 0]]\n"
          ]
        }
      ]
    }
  ]
}